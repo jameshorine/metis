{
 "cells": [
  {
   "cell_type": "markdown",
   "metadata": {},
   "source": [
    "# Optimization (in particular, a focus on SGD) "
   ]
  },
  {
   "cell_type": "markdown",
   "metadata": {},
   "source": [
    "Optimization problems exist in many forms. We will make use of a popular technique, Gradient Descent, and a potentially useful extension, under a well-behaved framework of function spaces designed to motivate the use-cases for more complex (and potentially less behaved) function spaces. \n"
   ]
  },
  {
   "cell_type": "markdown",
   "metadata": {},
   "source": [
    "Well behaved: \n",
    "1. ($\\mathbb{H}:=L_2(\\mathbb{R}^n) | \\forall f,g \\in \\mathbb{R}^n, <f,g>  = \\int_{\\mu}(\\bar{f}\\bullet g)d\\mu$\n",
    "2.  f,g are square integrable, i.e. $\\int\\limits_{-\\infty}^{\\infty} |f(x)|^2 dx <\\infty$ ) \n",
    "3. f, g are convex, i.e.: $\\forall x_1, x_2 \\in X, \\forall t \\in [0, 1]:  f(tx_1+(1-t)x_2)\\leq t f(x_1)+(1-t)f(x_2)$"
   ]
  },
  {
   "cell_type": "code",
   "execution_count": 1,
   "metadata": {
    "collapsed": true
   },
   "outputs": [],
   "source": [
    "#imports\n",
    "import math\n",
    "import numpy as np\n",
    "import matplotlib.pyplot as plt\n",
    "from sklearn.linear_model import LinearRegression\n",
    "\n",
    "np.random.seed(2)\n",
    "\n",
    "%matplotlib inline\n",
    "np.random.seed(2)"
   ]
  },
  {
   "cell_type": "code",
   "execution_count": 2,
   "metadata": {
    "collapsed": true
   },
   "outputs": [],
   "source": [
    "#Parameters (dont look at these yet!)\n",
    "N = 100\n",
    "x = np.random.rand(N,1)*5\n",
    "x_plot = np.arange(0,5,step=0.1)\n",
    "# Let the following command be the true function\n",
    "b0 = round(math.exp(1),3)\n",
    "b1 = round(math.pi, 3)\n"
   ]
  },
  {
   "cell_type": "code",
   "execution_count": 3,
   "metadata": {
    "collapsed": true
   },
   "outputs": [],
   "source": [
    "#Function\n",
    "y = b0 + b1*x**2\n",
    "# Get some noisy observations\n",
    "y_obs = y + 2*np.random.randn(N,1)"
   ]
  },
  {
   "cell_type": "code",
   "execution_count": 4,
   "metadata": {
    "collapsed": false
   },
   "outputs": [
    {
     "data": {
      "image/png": "[encoded data removed]",
      "text/plain": [
       "<matplotlib.figure.Figure at 0x113d5e748>"
      ]
     },
     "metadata": {},
     "output_type": "display_data"
    }
   ],
   "source": [
    "plt.scatter(x,y_obs,label='Observations')\n",
    "plt.plot(x_plot,b0 + b1*x_plot**2,c='r', label='True Function')\n",
    "\n",
    "plt.legend()\n",
    "plt.show()"
   ]
  },
  {
   "cell_type": "code",
   "execution_count": null,
   "metadata": {
    "collapsed": true
   },
   "outputs": [],
   "source": []
  }
 ],
 "metadata": {
  "kernelspec": {
   "display_name": "Python 3",
   "language": "python",
   "name": "python3"
  },
  "language_info": {
   "codemirror_mode": {
    "name": "ipython",
    "version": 3
   },
   "file_extension": ".py",
   "mimetype": "text/x-python",
   "name": "python",
   "nbconvert_exporter": "python",
   "pygments_lexer": "ipython3",
   "version": "3.6.0"
  }
 },
 "nbformat": 4,
 "nbformat_minor": 2
}
