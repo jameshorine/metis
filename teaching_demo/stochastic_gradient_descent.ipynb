{
 "cells": [
  {
   "cell_type": "markdown",
   "metadata": {},
   "source": [
    "# Optimization (in particular, a focus on SGD) "
   ]
  },
  {
   "cell_type": "markdown",
   "metadata": {},
   "source": [
    "Optimization problems exist in many forms. We will make use of a popular technique, Gradient Descent, and a potentially useful extension, under a well-behaved framework of function spaces designed to motivate the use-cases for more complex (and potentially less behaved) function spaces. \n"
   ]
  },
  {
   "cell_type": "code",
   "execution_count": 1,
   "metadata": {},
   "outputs": [
    {
     "data": {
      "text/html": [
       "<style>.container { width:90% !important; }</style>"
      ],
      "text/plain": [
       "<IPython.core.display.HTML object>"
      ]
     },
     "metadata": {},
     "output_type": "display_data"
    }
   ],
   "source": [
    "from IPython.core.display import display, HTML\n",
    "display(HTML(\"<style>.container { width:90% !important; }</style>\"))\n",
    "\n",
    "import math\n",
    "import numpy as np\n",
    "import matplotlib.pyplot as plt\n",
    "from sklearn.linear_model import LinearRegression\n",
    "\n",
    "np.random.seed(1)\n",
    "\n",
    "%matplotlib inline\n",
    "np.random.seed(1)"
   ]
  },
  {
   "cell_type": "code",
   "execution_count": 2,
   "metadata": {
    "collapsed": true
   },
   "outputs": [],
   "source": [
    "N = 50\n",
    "x = np.random.rand(N,1)*5\n",
    "# Let the following command be the true function\n",
    "beta_0 = round(math.exp(1),3) #whats this number? :)\n",
    "beta_1 = round(math.pi, 3) #whats this number? :)\n",
    "\n",
    "y = beta_0 + beta_1*x**2\n",
    "# Get some noisy observations\n",
    "y_obs = y + 5*np.random.randn(N,1)"
   ]
  },
  {
   "cell_type": "code",
   "execution_count": 3,
   "metadata": {},
   "outputs": [
    {
     "data": {
      "image/png": "[encoded data removed]",
      "text/plain": [
       "<matplotlib.figure.Figure at 0x1155ebf98>"
      ]
     },
     "metadata": {},
     "output_type": "display_data"
    }
   ],
   "source": [
    "plt.scatter(x,y_obs,label='Observations')\n",
    "#plt.plot(x,y,c='r',label='True function')\n",
    "plt.plot(np.arange(0,5,step=0.1),beta_0 + beta_1*np.arange(0,5,step=0.1)**2,c='r',label='True function')\n",
    "plt.legend()\n",
    "plt.show()"
   ]
  },
  {
   "cell_type": "markdown",
   "metadata": {},
   "source": [
    "So what do we do? We have to obtain some deravatives (because we want the gardient of the objective(loss) function). \n",
    "\n",
    "That is, we require: \n",
    "\n",
    "- $f$\n",
    "\n",
    "\n",
    "- $S$, the objective or  loss function\n",
    "\n",
    "\n",
    "- $\\dfrac{dS}{d\\beta_0}$\n",
    "\n",
    "\n",
    "- $\\dfrac{dS}{d\\beta_1}$\n",
    "\n",
    "\n",
    "- $\\dfrac{df}{d\\beta_0}$\n",
    "\n",
    "\n",
    "- $\\dfrac{df}{d\\beta_1}$\n"
   ]
  },
  {
   "cell_type": "code",
   "execution_count": 4,
   "metadata": {
    "collapsed": true
   },
   "outputs": [],
   "source": [
    "def f(beta_0,beta_1):\n",
    "    return beta_0 + beta_1*x**2\n",
    "\n",
    "def loss_function(e):\n",
    "    S = np.sum(np.square(e))/N\n",
    "    return S\n",
    "\n",
    "def dS_db_0(e,b_0,b_1):\n",
    "    return -2*np.sum(e*df_db_0(b_0,b_1))/N\n",
    "\n",
    "def dS_db_1(e,b_0,b_1):\n",
    "    return -2*np.sum(e*df_db_1(b_0,b_1))/N\n",
    "\n",
    "def df_db_0(b_0,b_1):\n",
    "    return np.ones(x.shape)\n",
    "\n",
    "def df_db_1(b_0,b_1):\n",
    "    return x\n"
   ]
  },
  {
   "cell_type": "code",
   "execution_count": 5,
   "metadata": {
    "collapsed": true
   },
   "outputs": [],
   "source": [
    "# The Actual Gradient Descent (borrowed from https://github.com/sachinruk/deepschool.io, and modified for clarity)\n",
    "def gradient_descent(iters=100,gamma=0.01):\n",
    "    # get starting conditions\n",
    "    b1 = .5\n",
    "    b0 = .5\n",
    "    params = []\n",
    "    loss = np.zeros((iters,1))\n",
    "    for i in range(iters):\n",
    "        params.append([b0,b1])\n",
    "        e = y_obs - f(b0,b1) # why are we using y_obs here? dont we know y??? do we know y, or more specifically, do we 'know' f()?\n",
    "        loss[i] = loss_function(e)\n",
    "\n",
    "        #update parameters\n",
    "        b0_new = b0 - gamma * dS_db_0(e,b0,b1)\n",
    "        b1_new = b1 - gamma * dS_db_1(e,b0,b1)\n",
    "        \n",
    "        b0 = b0_new\n",
    "        b1 = b1_new \n",
    "        \n",
    "        \n",
    "    return params, loss\n",
    "        \n",
    "params, loss = gradient_descent()"
   ]
  },
  {
   "cell_type": "code",
   "execution_count": 6,
   "metadata": {},
   "outputs": [
    {
     "data": {
      "text/plain": [
       "[<matplotlib.lines.Line2D at 0x1172eb630>]"
      ]
     },
     "execution_count": 6,
     "metadata": {},
     "output_type": "execute_result"
    },
    {
     "data": {
      "image/png": "[encoded data removed]",
      "text/plain": [
       "<matplotlib.figure.Figure at 0x1155ebbe0>"
      ]
     },
     "metadata": {},
     "output_type": "display_data"
    }
   ],
   "source": [
    "plt.plot(loss)"
   ]
  },
  {
   "cell_type": "code",
   "execution_count": 7,
   "metadata": {},
   "outputs": [
    {
     "data": {
      "image/png": "[encoded data removed]",
      "text/plain": [
       "<matplotlib.figure.Figure at 0x117309978>"
      ]
     },
     "metadata": {},
     "output_type": "display_data"
    }
   ],
   "source": [
    "params = np.array(params)\n",
    "plt.plot(params[:,0],params[:,1])\n",
    "plt.title('Gradient descent')\n",
    "plt.xlabel('b0')\n",
    "plt.ylabel('b1')\n",
    "plt.show()"
   ]
  },
  {
   "cell_type": "code",
   "execution_count": 8,
   "metadata": {},
   "outputs": [
    {
     "data": {
      "text/plain": [
       "array([ 2.13785523,  3.26078077])"
      ]
     },
     "execution_count": 8,
     "metadata": {},
     "output_type": "execute_result"
    }
   ],
   "source": [
    "params[-1]"
   ]
  },
  {
   "cell_type": "markdown",
   "metadata": {
    "collapsed": true
   },
   "source": [
    "Ok, that was kind of slow, what happens if we have a more general example? What about more data? Lets vectorize this. But first, lets discover some multivariate data!"
   ]
  },
  {
   "cell_type": "code",
   "execution_count": 9,
   "metadata": {
    "collapsed": true
   },
   "outputs": [],
   "source": [
    "N = 1000\n",
    "D = 5\n",
    "X = 5*np.random.randn(N,D)\n",
    "betas = np.random.randn(D,1)\n",
    "y = X.dot(betas)\n",
    "y_obs = y + np.random.randn(N,1)"
   ]
  },
  {
   "cell_type": "code",
   "execution_count": 10,
   "metadata": {
    "collapsed": true
   },
   "outputs": [],
   "source": [
    "# Vectorized Helper Functions\n",
    "\n",
    "#lets drop the intercept...because it really does not matter that much. \n",
    "def f_vec(betas):\n",
    "    return X.dot(betas)\n",
    "\n",
    "def loss_function(e):\n",
    "    S = e.T.dot(e)/N\n",
    "    return S\n",
    "\n",
    "def dS_dbetas(e,betas):\n",
    "    return -2*X.T.dot(e)/N\n",
    "\n",
    "def vectorized_gradient_descent(iter=100,gamma=1e-3):\n",
    "    # get starting conditions\n",
    "    betas = np.random.randn(D,1) #this is the initialization\n",
    "    params = []\n",
    "    loss = np.zeros((iter,1))\n",
    "    for i in range(iter):\n",
    "        params.append(betas)\n",
    "        e = y_obs - f_vec(betas) # Really important that you use y_obs and not y (you do not have access to true y)\n",
    "        loss[i] = loss_function(e)\n",
    "\n",
    "        #update parameters\n",
    "        betas = betas - gamma*dS_dbetas(e,betas)\n",
    "        \n",
    "    return params, loss"
   ]
  },
  {
   "cell_type": "code",
   "execution_count": 11,
   "metadata": {
    "collapsed": true
   },
   "outputs": [],
   "source": [
    "\n",
    "        \n",
    "params, loss = vectorized_gradient_descent()"
   ]
  },
  {
   "cell_type": "code",
   "execution_count": 12,
   "metadata": {},
   "outputs": [
    {
     "data": {
      "text/plain": [
       "[<matplotlib.lines.Line2D at 0x1175151d0>]"
      ]
     },
     "execution_count": 12,
     "metadata": {},
     "output_type": "execute_result"
    },
    {
     "data": {
      "image/png": "[encoded data removed]",
      "text/plain": [
       "<matplotlib.figure.Figure at 0x1173ca5f8>"
      ]
     },
     "metadata": {},
     "output_type": "display_data"
    }
   ],
   "source": [
    "plt.plot(loss)"
   ]
  },
  {
   "cell_type": "code",
   "execution_count": 13,
   "metadata": {},
   "outputs": [
    {
     "data": {
      "text/plain": [
       "array([[-0.84394964],\n",
       "       [-0.4814807 ],\n",
       "       [-1.12598103],\n",
       "       [ 0.07413685],\n",
       "       [-1.21106272]])"
      ]
     },
     "execution_count": 13,
     "metadata": {},
     "output_type": "execute_result"
    }
   ],
   "source": [
    "params[-1]"
   ]
  },
  {
   "cell_type": "code",
   "execution_count": 14,
   "metadata": {},
   "outputs": [
    {
     "data": {
      "text/plain": [
       "array([[-0.84914949],\n",
       "       [-0.49471278],\n",
       "       [-1.12743023],\n",
       "       [ 0.09131194],\n",
       "       [-1.22154224]])"
      ]
     },
     "execution_count": 14,
     "metadata": {},
     "output_type": "execute_result"
    }
   ],
   "source": [
    "model = LinearRegression(fit_intercept=False)\n",
    "model.fit(X,y)\n",
    "model.coef_.T"
   ]
  },
  {
   "cell_type": "markdown",
   "metadata": {},
   "source": [
    "So, we have confirmed to ourselves, that in some reasonable sense, this does work. How do we speed it up even more? Lets look at Stochastic Gradient Descent. "
   ]
  },
  {
   "cell_type": "code",
   "execution_count": 15,
   "metadata": {
    "collapsed": true
   },
   "outputs": [],
   "source": [
    "N = 1000\n",
    "D = 3\n",
    "X = 5*np.random.randn(N,D)\n",
    "betas = np.array([[math.pi],[math.exp(1)],[30]])\n",
    "y = X.dot(betas)\n",
    "y_obs = y + np.random.randn(N,1)"
   ]
  },
  {
   "cell_type": "code",
   "execution_count": 16,
   "metadata": {},
   "outputs": [
    {
     "name": "stdout",
     "output_type": "stream",
     "text": [
      "epoch = 0\n",
      "gamma = 0.009000000000000001\n",
      "epoch = 1\n",
      "gamma = 0.008100000000000001\n",
      "epoch = 2\n",
      "gamma = 0.007290000000000001\n",
      "epoch = 3\n",
      "gamma = 0.006561000000000002\n",
      "epoch = 4\n",
      "gamma = 0.005904900000000002\n",
      "epoch = 5\n",
      "gamma = 0.005314410000000002\n",
      "epoch = 6\n",
      "gamma = 0.004782969000000002\n",
      "epoch = 7\n",
      "gamma = 0.004304672100000002\n",
      "epoch = 8\n",
      "gamma = 0.003874204890000002\n",
      "epoch = 9\n",
      "gamma = 0.003486784401000002\n",
      "epoch = 10\n",
      "gamma = 0.003138105960900002\n",
      "epoch = 11\n",
      "gamma = 0.0028242953648100018\n",
      "epoch = 12\n",
      "gamma = 0.0025418658283290017\n",
      "epoch = 13\n",
      "gamma = 0.0022876792454961017\n",
      "epoch = 14\n",
      "gamma = 0.0020589113209464917\n",
      "epoch = 15\n",
      "gamma = 0.0018530201888518425\n",
      "epoch = 16\n",
      "gamma = 0.0016677181699666583\n",
      "epoch = 17\n",
      "gamma = 0.0015009463529699924\n",
      "epoch = 18\n",
      "gamma = 0.0013508517176729932\n",
      "epoch = 19\n",
      "gamma = 0.001215766545905694\n",
      "epoch = 20\n",
      "gamma = 0.0010941898913151245\n",
      "epoch = 21\n",
      "gamma = 0.0009847709021836122\n",
      "epoch = 22\n",
      "gamma = 0.0008862938119652509\n",
      "epoch = 23\n",
      "gamma = 0.0007976644307687258\n",
      "epoch = 24\n",
      "gamma = 0.0007178979876918532\n",
      "epoch = 25\n",
      "gamma = 0.0006461081889226679\n",
      "epoch = 26\n",
      "gamma = 0.0005814973700304011\n",
      "epoch = 27\n",
      "gamma = 0.0005233476330273611\n",
      "epoch = 28\n",
      "gamma = 0.000471012869724625\n",
      "epoch = 29\n",
      "gamma = 0.0004239115827521625\n",
      "epoch = 30\n",
      "gamma = 0.00038152042447694626\n",
      "epoch = 31\n",
      "gamma = 0.00034336838202925164\n",
      "epoch = 32\n",
      "gamma = 0.0003090315438263265\n",
      "epoch = 33\n",
      "gamma = 0.00027812838944369386\n",
      "epoch = 34\n",
      "gamma = 0.0002503155504993245\n",
      "epoch = 35\n",
      "gamma = 0.00022528399544939206\n",
      "epoch = 36\n",
      "gamma = 0.00020275559590445286\n",
      "epoch = 37\n",
      "gamma = 0.00018248003631400757\n",
      "epoch = 38\n",
      "gamma = 0.00016423203268260683\n",
      "epoch = 39\n",
      "gamma = 0.00014780882941434616\n",
      "epoch = 40\n",
      "gamma = 0.00013302794647291155\n",
      "epoch = 41\n",
      "gamma = 0.00011972515182562039\n",
      "epoch = 42\n",
      "gamma = 0.00010775263664305835\n",
      "epoch = 43\n",
      "gamma = 9.697737297875251e-05\n",
      "epoch = 44\n",
      "gamma = 8.727963568087727e-05\n",
      "epoch = 45\n",
      "gamma = 7.855167211278955e-05\n",
      "epoch = 46\n",
      "gamma = 7.06965049015106e-05\n",
      "epoch = 47\n",
      "gamma = 6.362685441135955e-05\n",
      "epoch = 48\n",
      "gamma = 5.7264168970223595e-05\n",
      "epoch = 49\n",
      "gamma = 5.153775207320124e-05\n",
      "epoch = 50\n",
      "gamma = 4.6383976865881114e-05\n",
      "epoch = 51\n",
      "gamma = 4.1745579179293e-05\n",
      "epoch = 52\n",
      "gamma = 3.75710212613637e-05\n",
      "epoch = 53\n",
      "gamma = 3.381391913522733e-05\n",
      "epoch = 54\n",
      "gamma = 3.0432527221704597e-05\n",
      "epoch = 55\n",
      "gamma = 2.7389274499534138e-05\n",
      "epoch = 56\n",
      "gamma = 2.4650347049580723e-05\n",
      "epoch = 57\n",
      "gamma = 2.218531234462265e-05\n",
      "epoch = 58\n",
      "gamma = 1.9966781110160387e-05\n",
      "epoch = 59\n",
      "gamma = 1.797010299914435e-05\n",
      "epoch = 60\n",
      "gamma = 1.6173092699229914e-05\n",
      "epoch = 61\n",
      "gamma = 1.4555783429306922e-05\n",
      "epoch = 62\n",
      "gamma = 1.310020508637623e-05\n",
      "epoch = 63\n",
      "gamma = 1.1790184577738607e-05\n",
      "epoch = 64\n",
      "gamma = 1.0611166119964747e-05\n",
      "epoch = 65\n",
      "gamma = 9.550049507968273e-06\n",
      "epoch = 66\n",
      "gamma = 8.595044557171446e-06\n",
      "epoch = 67\n",
      "gamma = 7.735540101454301e-06\n",
      "epoch = 68\n",
      "gamma = 6.9619860913088715e-06\n",
      "epoch = 69\n",
      "gamma = 6.265787482177985e-06\n",
      "epoch = 70\n",
      "gamma = 5.639208733960187e-06\n",
      "epoch = 71\n",
      "gamma = 5.075287860564168e-06\n",
      "epoch = 72\n",
      "gamma = 4.5677590745077515e-06\n",
      "epoch = 73\n",
      "gamma = 4.110983167056976e-06\n",
      "epoch = 74\n",
      "gamma = 3.6998848503512788e-06\n",
      "epoch = 75\n",
      "gamma = 3.329896365316151e-06\n",
      "epoch = 76\n",
      "gamma = 2.9969067287845362e-06\n",
      "epoch = 77\n",
      "gamma = 2.6972160559060827e-06\n",
      "epoch = 78\n",
      "gamma = 2.4274944503154745e-06\n",
      "epoch = 79\n",
      "gamma = 2.1847450052839273e-06\n",
      "epoch = 80\n",
      "gamma = 1.9662705047555346e-06\n",
      "epoch = 81\n",
      "gamma = 1.7696434542799813e-06\n",
      "epoch = 82\n",
      "gamma = 1.5926791088519833e-06\n",
      "epoch = 83\n",
      "gamma = 1.433411197966785e-06\n",
      "epoch = 84\n",
      "gamma = 1.2900700781701065e-06\n",
      "epoch = 85\n",
      "gamma = 1.161063070353096e-06\n",
      "epoch = 86\n",
      "gamma = 1.0449567633177863e-06\n",
      "epoch = 87\n",
      "gamma = 9.404610869860078e-07\n",
      "epoch = 88\n",
      "gamma = 8.46414978287407e-07\n",
      "epoch = 89\n",
      "gamma = 7.617734804586663e-07\n",
      "epoch = 90\n",
      "gamma = 6.855961324127997e-07\n",
      "epoch = 91\n",
      "gamma = 6.170365191715197e-07\n",
      "epoch = 92\n",
      "gamma = 5.553328672543678e-07\n",
      "epoch = 93\n",
      "gamma = 4.99799580528931e-07\n",
      "epoch = 94\n",
      "gamma = 4.498196224760379e-07\n",
      "epoch = 95\n",
      "gamma = 4.0483766022843414e-07\n",
      "epoch = 96\n",
      "gamma = 3.643538942055907e-07\n",
      "epoch = 97\n",
      "gamma = 3.2791850478503163e-07\n",
      "epoch = 98\n",
      "gamma = 2.951266543065285e-07\n",
      "epoch = 99\n",
      "gamma = 2.6561398887587566e-07\n"
     ]
    }
   ],
   "source": [
    "def dS_dbetas(X,e,betas):\n",
    "    return -2*X.T.dot(e)/len(X)\n",
    "\n",
    "def stochastic_gradient_descent(gamma=1e-2, n_epochs=100, batch_size=20, decay=0.9):\n",
    "    epoch_run = int(len(X)/batch_size)\n",
    "    \n",
    "    # get starting conditions\n",
    "    betas = np.random.randn(D,1)\n",
    "    params = []\n",
    "    loss = np.zeros((n_epochs,1))\n",
    "    for i in range(n_epochs):\n",
    "        params.append(betas)\n",
    "        \n",
    "        for j in range(epoch_run):\n",
    "            idx = np.random.choice(len(X),batch_size,replace=False)\n",
    "            e = y_obs[idx] - X[idx].dot(betas) # Really important that you use y_obs and not y (you do not have access to true y)\n",
    "            #update parameters\n",
    "            betas = betas - gamma*dS_dbetas(X[idx],e,betas)\n",
    "            \n",
    "        loss[i] = e.T.dot(e)/len(e)    \n",
    "        gamma = gamma*decay #decay the learning parameter\n",
    "        print(\"epoch =\", i)\n",
    "        print(\"gamma =\", gamma)\n",
    "    return params, loss\n",
    "        \n",
    "params, loss = stochastic_gradient_descent()"
   ]
  },
  {
   "cell_type": "code",
   "execution_count": 17,
   "metadata": {},
   "outputs": [
    {
     "data": {
      "text/plain": [
       "[<matplotlib.lines.Line2D at 0x117829128>]"
      ]
     },
     "execution_count": 17,
     "metadata": {},
     "output_type": "execute_result"
    },
    {
     "data": {
      "image/png": "[encoded data removed]",
      "text/plain": [
       "<matplotlib.figure.Figure at 0x11751e0f0>"
      ]
     },
     "metadata": {},
     "output_type": "display_data"
    }
   ],
   "source": [
    "plt.plot(loss)"
   ]
  },
  {
   "cell_type": "code",
   "execution_count": 18,
   "metadata": {},
   "outputs": [
    {
     "data": {
      "text/plain": [
       "array([[  3.15275464],\n",
       "       [  2.71300199],\n",
       "       [ 29.99465298]])"
      ]
     },
     "execution_count": 18,
     "metadata": {},
     "output_type": "execute_result"
    }
   ],
   "source": [
    "params[-1]"
   ]
  },
  {
   "cell_type": "code",
   "execution_count": null,
   "metadata": {
    "collapsed": true
   },
   "outputs": [],
   "source": []
  }
 ],
 "metadata": {
  "kernelspec": {
   "display_name": "Python 3",
   "language": "python",
   "name": "python3"
  },
  "language_info": {
   "codemirror_mode": {
    "name": "ipython",
    "version": 3
   },
   "file_extension": ".py",
   "mimetype": "text/x-python",
   "name": "python",
   "nbconvert_exporter": "python",
   "pygments_lexer": "ipython3",
   "version": "3.6.3"
  }
 },
 "nbformat": 4,
 "nbformat_minor": 2
}
