{
 "cells": [
  {
   "cell_type": "markdown",
   "metadata": {},
   "source": [
    "# Optimization (in particular, a focus on SGD) "
   ]
  },
  {
   "cell_type": "markdown",
   "metadata": {},
   "source": [
    "Optimization problems exist in many forms. We will make use of a popular technique, Gradient Descent, and a potentially useful extension, under a well-behaved framework of function spaces designed to motivate the use-cases for more complex (and potentially less behaved) function spaces. \n"
   ]
  },
  {
   "cell_type": "markdown",
   "metadata": {},
   "source": [
    "Well behaved: \n",
    "1. ($\\mathbb{H}:=L_2(\\mathbb{R}^n) | \\forall f,g \\in \\mathbb{R}^n, <f,g>  = \\int_{\\mu}(\\bar{f}\\bullet g)d\\mu$\n",
    "2.  f,g are square integrable, i.e. $\\int\\limits_{-\\infty}^{\\infty} |f(x)|^2 dx <\\infty$ ) \n",
    "3. f, g are convex, i.e.: $\\forall x_1, x_2 \\in X, \\forall t \\in [0, 1]:  f(tx_1+(1-t)x_2)\\leq t f(x_1)+(1-t)f(x_2)$\n",
    "\n",
    "(phew, glad that is over)"
   ]
  },
  {
   "cell_type": "code",
   "execution_count": 1,
   "metadata": {},
   "outputs": [
    {
     "data": {
      "text/html": [
       "<style>.container { width:90% !important; }</style>"
      ],
      "text/plain": [
       "<IPython.core.display.HTML object>"
      ]
     },
     "metadata": {},
     "output_type": "display_data"
    }
   ],
   "source": [
    "from IPython.core.display import display, HTML\n",
    "display(HTML(\"<style>.container { width:90% !important; }</style>\"))\n",
    "\n",
    "import math\n",
    "import numpy as np\n",
    "import matplotlib.pyplot as plt\n",
    "from sklearn.linear_model import LinearRegression\n",
    "\n",
    "np.random.seed(1)\n",
    "\n",
    "%matplotlib inline\n",
    "np.random.seed(1)"
   ]
  },
  {
   "cell_type": "code",
   "execution_count": 9,
   "metadata": {},
   "outputs": [],
   "source": [
    "N = 50\n",
    "x = np.random.rand(N,1)*5\n",
    "# Let the following command be the true function\n",
    "beta_0 = round(math.exp(1),3) #whats this number? :)\n",
    "beta_1 = round(math.pi, 3) #whats this number? :)\n",
    "\n",
    "y = beta_0 + beta_1*x**2\n",
    "# Get some noisy observations\n",
    "y_obs = y + 5*np.random.randn(N,1)"
   ]
  },
  {
   "cell_type": "code",
   "execution_count": 10,
   "metadata": {},
   "outputs": [
    {
     "data": {
      "image/png": "[encoded data removed]",
      "text/plain": [
       "<matplotlib.figure.Figure at 0x113e56ba8>"
      ]
     },
     "metadata": {},
     "output_type": "display_data"
    }
   ],
   "source": [
    "plt.scatter(x,y_obs,label='Observations')\n",
    "#plt.plot(x,y,c='r',label='True function')\n",
    "plt.plot(np.arange(0,5,step=0.1),beta_0 + beta_1*np.arange(0,5,step=0.1)**2,c='r',label='True function')\n",
    "plt.legend()\n",
    "plt.show()"
   ]
  },
  {
   "cell_type": "markdown",
   "metadata": {},
   "source": [
    "So what do we do? We have to obtain some deravatives (because we want the gardient of the objective(loss) function). \n",
    "\n",
    "That is, we require: \n",
    "\n",
    "- $f$\n",
    "\n",
    "\n",
    "- $S$, the objective or  loss function\n",
    "\n",
    "\n",
    "- $\\dfrac{dS}{d\\beta_0}$\n",
    "\n",
    "\n",
    "- $\\dfrac{dS}{d\\beta_1}$\n",
    "\n",
    "\n",
    "- $\\dfrac{df}{d\\beta_0}$\n",
    "\n",
    "\n",
    "- $\\dfrac{df}{d\\beta_1}$\n"
   ]
  },
  {
   "cell_type": "code",
   "execution_count": 4,
   "metadata": {
    "collapsed": true
   },
   "outputs": [],
   "source": [
    "def f(beta_0,beta_1):\n",
    "    return beta_0 + beta_1*x**2\n",
    "\n",
    "def loss_function(e):\n",
    "    S = np.sum(np.square(e))/N\n",
    "    return S\n",
    "\n",
    "def dS_db_0(e,b_0,b_1):\n",
    "    return -2*np.sum(e*df_db_0(b_0,b_1))/N\n",
    "\n",
    "def dS_db_1(e,b_0,b_1):\n",
    "    return -2*np.sum(e*df_db_1(b_0,b_1))/N\n",
    "\n",
    "def df_db_0(b_0,b_1):\n",
    "    return np.ones(x.shape)\n",
    "\n",
    "def df_db_1(b_0,b_1):\n",
    "    return x\n"
   ]
  },
  {
   "cell_type": "code",
   "execution_count": 5,
   "metadata": {},
   "outputs": [],
   "source": [
    "# The Actual Gradient Descent (borrowed from https://github.com/sachinruk/deepschool.io, and modified for clarity)\n",
    "def gradient_descent(iters=100,gamma=0.01):\n",
    "    # get starting conditions\n",
    "    b1 = .5\n",
    "    b0 = .5\n",
    "    params = []\n",
    "    loss = np.zeros((iters,1))\n",
    "    for i in range(iters):\n",
    "        params.append([b0,b1])\n",
    "        e = y_obs - f(b0,b1) # why are we using y_obs here? dont we know y??? do we know y, or more specifically, do we 'know' f()?\n",
    "        loss[i] = loss_function(e)\n",
    "\n",
    "        #update parameters\n",
    "        b0_new = b0 - gamma * dS_db_0(e,b0,b1)\n",
    "        b1_new = b1 - gamma * dS_db_1(e,b0,b1)\n",
    "        \n",
    "        b0 = b0_new\n",
    "        b1 = b1_new \n",
    "        \n",
    "        \n",
    "    return params, loss\n",
    "        \n",
    "params, loss = gradient_descent()"
   ]
  },
  {
   "cell_type": "code",
   "execution_count": 6,
   "metadata": {},
   "outputs": [
    {
     "data": {
      "text/plain": [
       "[<matplotlib.lines.Line2D at 0x113e11198>]"
      ]
     },
     "execution_count": 6,
     "metadata": {},
     "output_type": "execute_result"
    },
    {
     "data": {
      "image/png": "[encoded data removed]",
      "text/plain": [
       "<matplotlib.figure.Figure at 0x1084ed860>"
      ]
     },
     "metadata": {},
     "output_type": "display_data"
    }
   ],
   "source": [
    "plt.plot(loss)"
   ]
  },
  {
   "cell_type": "code",
   "execution_count": 7,
   "metadata": {},
   "outputs": [
    {
     "data": {
      "image/png": "[encoded data removed]",
      "text/plain": [
       "<matplotlib.figure.Figure at 0x110b117b8>"
      ]
     },
     "metadata": {},
     "output_type": "display_data"
    }
   ],
   "source": [
    "params = np.array(params)\n",
    "plt.plot(params[:,0],params[:,1])\n",
    "plt.title('Gradient descent')\n",
    "plt.xlabel('b0')\n",
    "plt.ylabel('b1')\n",
    "plt.show()"
   ]
  },
  {
   "cell_type": "code",
   "execution_count": 8,
   "metadata": {},
   "outputs": [
    {
     "data": {
      "text/plain": [
       "array([ 2.44002933,  3.17663621])"
      ]
     },
     "execution_count": 8,
     "metadata": {},
     "output_type": "execute_result"
    }
   ],
   "source": [
    "params[-1]"
   ]
  },
  {
   "cell_type": "code",
   "execution_count": null,
   "metadata": {
    "collapsed": true
   },
   "outputs": [],
   "source": []
  }
 ],
 "metadata": {
  "kernelspec": {
   "display_name": "Python 3",
   "language": "python",
   "name": "python3"
  },
  "language_info": {
   "codemirror_mode": {
    "name": "ipython",
    "version": 3
   },
   "file_extension": ".py",
   "mimetype": "text/x-python",
   "name": "python",
   "nbconvert_exporter": "python",
   "pygments_lexer": "ipython3",
   "version": "3.6.3"
  }
 },
 "nbformat": 4,
 "nbformat_minor": 2
}
