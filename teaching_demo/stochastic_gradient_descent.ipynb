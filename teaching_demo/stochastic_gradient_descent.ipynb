{
 "cells": [
  {
   "cell_type": "markdown",
   "metadata": {},
   "source": [
    "# Optimization (in particular, a focus on SGD) "
   ]
  },
  {
   "cell_type": "markdown",
   "metadata": {},
   "source": [
    "Optimization problems exist in many forms. We will make use of a popular technique, Gradient Descent, and a potentially useful extension, under a well-behaved framework of function spaces designed to motivate the use-cases for more complex (and potentially less behaved) function spaces. \n"
   ]
  },
  {
   "cell_type": "markdown",
   "metadata": {},
   "source": [
    "Well behaved: \n",
    "1. ($\\mathbb{H}:=L_2(\\mathbb{R}^n) | \\forall f,g \\in \\mathbb{R}^n, <f,g>  = \\int_{\\mu}(\\bar{f}\\bullet g)d\\mu$\n",
    "2.  f,g are square integrable, i.e. $\\int\\limits_{-\\infty}^{\\infty} |f(x)|^2 dx <\\infty$ ) \n",
    "3. f, g are convex, i.e.: $\\forall x_1, x_2 \\in X, \\forall t \\in [0, 1]:  f(tx_1+(1-t)x_2)\\leq t f(x_1)+(1-t)f(x_2)$\n",
    "\n",
    "(phew, glad that is over)"
   ]
  },
  {
   "cell_type": "code",
   "execution_count": 1,
   "metadata": {},
   "outputs": [
    {
     "data": {
      "text/html": [
       "<style>.container { width:90% !important; }</style>"
      ],
      "text/plain": [
       "<IPython.core.display.HTML object>"
      ]
     },
     "metadata": {},
     "output_type": "display_data"
    }
   ],
   "source": [
    "from IPython.core.display import display, HTML\n",
    "display(HTML(\"<style>.container { width:90% !important; }</style>\"))\n",
    "\n",
    "import math\n",
    "import numpy as np\n",
    "import matplotlib.pyplot as plt\n",
    "from sklearn.linear_model import LinearRegression\n",
    "\n",
    "np.random.seed(1)\n",
    "\n",
    "%matplotlib inline\n",
    "np.random.seed(1)"
   ]
  },
  {
   "cell_type": "code",
   "execution_count": 2,
   "metadata": {
    "collapsed": true
   },
   "outputs": [],
   "source": [
    "N = 50\n",
    "x = np.random.rand(N,1)*5\n",
    "# Let the following command be the true function\n",
    "beta_0 = round(math.exp(1),3) #whats this number? :)\n",
    "beta_1 = round(math.pi, 3) #whats this number? :)\n",
    "\n",
    "y = beta_0 + beta_1*x**2\n",
    "# Get some noisy observations\n",
    "y_obs = y + 5*np.random.randn(N,1)"
   ]
  },
  {
   "cell_type": "code",
   "execution_count": 3,
   "metadata": {},
   "outputs": [
    {
     "data": {
      "image/png": "[encoded data removed]",
      "text/plain": [
       "<matplotlib.figure.Figure at 0x1a162aef60>"
      ]
     },
     "metadata": {},
     "output_type": "display_data"
    }
   ],
   "source": [
    "plt.scatter(x,y_obs,label='Observations')\n",
    "#plt.plot(x,y,c='r',label='True function')\n",
    "plt.plot(np.arange(0,5,step=0.1),beta_0 + beta_1*np.arange(0,5,step=0.1)**2,c='r',label='True function')\n",
    "plt.legend()\n",
    "plt.show()"
   ]
  },
  {
   "cell_type": "markdown",
   "metadata": {},
   "source": [
    "So what do we do? We have to obtain some deravatives (because we want the gardient of the objective(loss) function). \n",
    "\n",
    "That is, we require: \n",
    "\n",
    "- $f$\n",
    "\n",
    "\n",
    "- $S$, the objective or  loss function\n",
    "\n",
    "\n",
    "- $\\dfrac{dS}{d\\beta_0}$\n",
    "\n",
    "\n",
    "- $\\dfrac{dS}{d\\beta_1}$\n",
    "\n",
    "\n",
    "- $\\dfrac{df}{d\\beta_0}$\n",
    "\n",
    "\n",
    "- $\\dfrac{df}{d\\beta_1}$\n"
   ]
  },
  {
   "cell_type": "code",
   "execution_count": 4,
   "metadata": {
    "collapsed": true
   },
   "outputs": [],
   "source": [
    "def f(beta_0,beta_1):\n",
    "    return beta_0 + beta_1*x**2\n",
    "\n",
    "def loss_function(e):\n",
    "    S = np.sum(np.square(e))/N\n",
    "    return S\n",
    "\n",
    "def dS_db_0(e,b_0,b_1):\n",
    "    return -2*np.sum(e*df_db_0(b_0,b_1))/N\n",
    "\n",
    "def dS_db_1(e,b_0,b_1):\n",
    "    return -2*np.sum(e*df_db_1(b_0,b_1))/N\n",
    "\n",
    "def df_db_0(b_0,b_1):\n",
    "    return np.ones(x.shape)\n",
    "\n",
    "def df_db_1(b_0,b_1):\n",
    "    return x\n"
   ]
  },
  {
   "cell_type": "code",
   "execution_count": 5,
   "metadata": {
    "collapsed": true
   },
   "outputs": [],
   "source": [
    "# The Actual Gradient Descent (borrowed from https://github.com/sachinruk/deepschool.io, and modified for clarity)\n",
    "def gradient_descent(iters=100,gamma=0.01):\n",
    "    # get starting conditions\n",
    "    b1 = .5\n",
    "    b0 = .5\n",
    "    params = []\n",
    "    loss = np.zeros((iters,1))\n",
    "    for i in range(iters):\n",
    "        params.append([b0,b1])\n",
    "        e = y_obs - f(b0,b1) # why are we using y_obs here? dont we know y??? do we know y, or more specifically, do we 'know' f()?\n",
    "        loss[i] = loss_function(e)\n",
    "\n",
    "        #update parameters\n",
    "        b0_new = b0 - gamma * dS_db_0(e,b0,b1)\n",
    "        b1_new = b1 - gamma * dS_db_1(e,b0,b1)\n",
    "        \n",
    "        b0 = b0_new\n",
    "        b1 = b1_new \n",
    "        \n",
    "        \n",
    "    return params, loss\n",
    "        \n",
    "params, loss = gradient_descent()"
   ]
  },
  {
   "cell_type": "code",
   "execution_count": 6,
   "metadata": {},
   "outputs": [
    {
     "data": {
      "text/plain": [
       "[<matplotlib.lines.Line2D at 0x1a1e597b38>]"
      ]
     },
     "execution_count": 6,
     "metadata": {},
     "output_type": "execute_result"
    },
    {
     "data": {
      "image/png": "[encoded data removed]",
      "text/plain": [
       "<matplotlib.figure.Figure at 0x1a1b2c2a90>"
      ]
     },
     "metadata": {},
     "output_type": "display_data"
    }
   ],
   "source": [
    "plt.plot(loss)"
   ]
  },
  {
   "cell_type": "code",
   "execution_count": 7,
   "metadata": {},
   "outputs": [
    {
     "data": {
      "image/png": "[encoded data removed]",
      "text/plain": [
       "<matplotlib.figure.Figure at 0x1a1e584e80>"
      ]
     },
     "metadata": {},
     "output_type": "display_data"
    }
   ],
   "source": [
    "params = np.array(params)\n",
    "plt.plot(params[:,0],params[:,1])\n",
    "plt.title('Gradient descent')\n",
    "plt.xlabel('b0')\n",
    "plt.ylabel('b1')\n",
    "plt.show()"
   ]
  },
  {
   "cell_type": "code",
   "execution_count": 8,
   "metadata": {},
   "outputs": [
    {
     "data": {
      "text/plain": [
       "array([ 2.13785523,  3.26078077])"
      ]
     },
     "execution_count": 8,
     "metadata": {},
     "output_type": "execute_result"
    }
   ],
   "source": [
    "params[-1]"
   ]
  },
  {
   "cell_type": "markdown",
   "metadata": {
    "collapsed": true
   },
   "source": [
    "Ok, that was kind of slow, what happens if we have a more general example? What about more data? Lets vectorize this. But first, lets discover some multivariate data!"
   ]
  },
  {
   "cell_type": "code",
   "execution_count": 9,
   "metadata": {
    "collapsed": true
   },
   "outputs": [],
   "source": [
    "N = 1000\n",
    "D = 5\n",
    "X = 5*np.random.randn(N,D)\n",
    "betas = np.random.randn(D,1)\n",
    "y = X.dot(betas)\n",
    "y_obs = y + np.random.randn(N,1)"
   ]
  },
  {
   "cell_type": "code",
   "execution_count": 10,
   "metadata": {
    "collapsed": true
   },
   "outputs": [],
   "source": [
    "# Vectorized Helper Functions\n",
    "\n",
    "#lets drop the intercept...because it really does not matter that much. \n",
    "def f_vec(betas):\n",
    "    return X.dot(betas)\n",
    "\n",
    "def loss_function(e):\n",
    "    S = e.T.dot(e)/N\n",
    "    return S\n",
    "\n",
    "def dS_dbetas(e,betas):\n",
    "    return -2*X.T.dot(e)/N\n",
    "\n",
    "def vectorized_gradient_descent(iter=100,gamma=1e-3):\n",
    "    # get starting conditions\n",
    "    betas = np.random.randn(D,1) #this is the initialization\n",
    "    params = []\n",
    "    loss = np.zeros((iter,1))\n",
    "    for i in range(iter):\n",
    "        params.append(betas)\n",
    "        e = y_obs - f_vec(betas) # Really important that you use y_obs and not y (you do not have access to true y)\n",
    "        loss[i] = loss_function(e)\n",
    "\n",
    "        #update parameters\n",
    "        betas = betas - gamma*dS_dbetas(e,betas)\n",
    "        \n",
    "    return params, loss"
   ]
  },
  {
   "cell_type": "code",
   "execution_count": 11,
   "metadata": {
    "collapsed": true
   },
   "outputs": [],
   "source": [
    "\n",
    "        \n",
    "params, loss = vectorized_gradient_descent()"
   ]
  },
  {
   "cell_type": "code",
   "execution_count": 12,
   "metadata": {},
   "outputs": [
    {
     "data": {
      "text/plain": [
       "[<matplotlib.lines.Line2D at 0x1a1e7613c8>]"
      ]
     },
     "execution_count": 12,
     "metadata": {},
     "output_type": "execute_result"
    },
    {
     "data": {
      "image/png": "[encoded data removed]",
      "text/plain": [
       "<matplotlib.figure.Figure at 0x1a1e6282b0>"
      ]
     },
     "metadata": {},
     "output_type": "display_data"
    }
   ],
   "source": [
    "plt.plot(loss)"
   ]
  },
  {
   "cell_type": "code",
   "execution_count": 13,
   "metadata": {},
   "outputs": [
    {
     "data": {
      "text/plain": [
       "array([[-0.84394964],\n",
       "       [-0.4814807 ],\n",
       "       [-1.12598103],\n",
       "       [ 0.07413685],\n",
       "       [-1.21106272]])"
      ]
     },
     "execution_count": 13,
     "metadata": {},
     "output_type": "execute_result"
    }
   ],
   "source": [
    "params[-1]"
   ]
  },
  {
   "cell_type": "code",
   "execution_count": 14,
   "metadata": {},
   "outputs": [
    {
     "data": {
      "text/plain": [
       "array([[-0.84914949],\n",
       "       [-0.49471278],\n",
       "       [-1.12743023],\n",
       "       [ 0.09131194],\n",
       "       [-1.22154224]])"
      ]
     },
     "execution_count": 14,
     "metadata": {},
     "output_type": "execute_result"
    }
   ],
   "source": [
    "model = LinearRegression(fit_intercept=False)\n",
    "model.fit(X,y)\n",
    "model.coef_.T"
   ]
  },
  {
   "cell_type": "markdown",
   "metadata": {},
   "source": [
    "So, we have confirmed to ourselves, that in some reasonable sense, this does work. How do we speed it up even more? Lets look at Stochastic Gradient Descent. "
   ]
  },
  {
   "cell_type": "code",
   "execution_count": 19,
   "metadata": {
    "collapsed": true
   },
   "outputs": [],
   "source": [
    "N = 1000\n",
    "D = 3\n",
    "X = 5*np.random.randn(N,D)\n",
    "betas = np.array([[math.pi],[math.exp(1)],[30]])\n",
    "y = X.dot(betas)\n",
    "y_obs = y + np.random.randn(N,1)"
   ]
  },
  {
   "cell_type": "code",
   "execution_count": 23,
   "metadata": {},
   "outputs": [],
   "source": [
    "def dS_dbetas(X,e,betas):\n",
    "    return -2*X.T.dot(e)/len(X)\n",
    "\n",
    "def stochastic_gradient_descent(gamma=1e-2, n_epochs=100, batch_size=20, decay=0.9):\n",
    "    epoch_run = int(len(X)/batch_size)\n",
    "    \n",
    "    # get starting conditions\n",
    "    betas = np.random.randn(D,1)\n",
    "    params = []\n",
    "    loss = np.zeros((n_epochs,1))\n",
    "    for i in range(n_epochs):\n",
    "        params.append(betas)\n",
    "        \n",
    "        for j in range(epoch_run):\n",
    "            idx = np.random.choice(len(X),batch_size,replace=False)\n",
    "            e = y_obs[idx] - X[idx].dot(betas) # Really important that you use y_obs and not y (you do not have access to true y)\n",
    "            #update parameters\n",
    "            betas = betas - gamma*dS_dbetas(X[idx],e,betas)\n",
    "        loss[i] = e.T.dot(e)/len(e)    \n",
    "        gamma = gamma*decay #decay the learning parameter\n",
    "        \n",
    "    return params, loss\n",
    "        \n",
    "params, loss = stochastic_gradient_descent()"
   ]
  },
  {
   "cell_type": "code",
   "execution_count": 24,
   "metadata": {},
   "outputs": [
    {
     "data": {
      "text/plain": [
       "[<matplotlib.lines.Line2D at 0x1a1ebf2630>]"
      ]
     },
     "execution_count": 24,
     "metadata": {},
     "output_type": "execute_result"
    },
    {
     "data": {
      "image/png": "[encoded data removed]",
      "text/plain": [
       "<matplotlib.figure.Figure at 0x1a1eb5d3c8>"
      ]
     },
     "metadata": {},
     "output_type": "display_data"
    }
   ],
   "source": [
    "plt.plot(loss)"
   ]
  },
  {
   "cell_type": "code",
   "execution_count": 26,
   "metadata": {},
   "outputs": [
    {
     "data": {
      "text/plain": [
       "array([[  3.14531212],\n",
       "       [  2.71317329],\n",
       "       [ 29.99795333]])"
      ]
     },
     "execution_count": 26,
     "metadata": {},
     "output_type": "execute_result"
    }
   ],
   "source": [
    "params[-1]"
   ]
  },
  {
   "cell_type": "code",
   "execution_count": null,
   "metadata": {
    "collapsed": true
   },
   "outputs": [],
   "source": []
  }
 ],
 "metadata": {
  "kernelspec": {
   "display_name": "Python 3",
   "language": "python",
   "name": "python3"
  },
  "language_info": {
   "codemirror_mode": {
    "name": "ipython",
    "version": 3
   },
   "file_extension": ".py",
   "mimetype": "text/x-python",
   "name": "python",
   "nbconvert_exporter": "python",
   "pygments_lexer": "ipython3",
   "version": "3.6.3"
  }
 },
 "nbformat": 4,
 "nbformat_minor": 2
}
