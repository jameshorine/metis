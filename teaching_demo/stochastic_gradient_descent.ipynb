{
 "cells": [
  {
   "cell_type": "markdown",
   "metadata": {},
   "source": [
    "# Optimization (in particular, a focus on SGD) "
   ]
  },
  {
   "cell_type": "markdown",
   "metadata": {},
   "source": [
    "Optimization problems exist in many forms. We will make use of a popular technique, Gradient Descent, and a potentially useful extension, under a well-behaved framework of function spaces designed to motivate the use-cases for more complex (and potentially less behaved) function spaces. \n"
   ]
  },
  {
   "cell_type": "markdown",
   "metadata": {},
   "source": [
    "Well behaved: \n",
    "1. ($\\mathbb{H}:=L_2(\\mathbb{R}^n) | \\forall f,g \\in \\mathbb{R}^n, <f,g>  = \\int_{\\mu}(\\bar{f}\\bullet g)d\\mu$\n",
    "2.  f,g are square integrable, i.e. $\\int\\limits_{-\\infty}^{\\infty} |f(x)|^2 dx <\\infty$ ) \n",
    "3. f, g are convex, i.e.: $\\forall x_1, x_2 \\in X, \\forall t \\in [0, 1]:  f(tx_1+(1-t)x_2)\\leq t f(x_1)+(1-t)f(x_2)$\n",
    "\n",
    "(phew, glad that is over)"
   ]
  },
  {
   "cell_type": "code",
   "execution_count": 70,
   "metadata": {
    "collapsed": true
   },
   "outputs": [],
   "source": [
    "import numpy as np\n",
    "import matplotlib.pyplot as plt\n",
    "from sklearn.linear_model import LinearRegression\n",
    "\n",
    "np.random.seed(1)\n",
    "\n",
    "%matplotlib inline\n",
    "np.random.seed(1)"
   ]
  },
  {
   "cell_type": "code",
   "execution_count": 71,
   "metadata": {
    "collapsed": true
   },
   "outputs": [],
   "source": [
    "#Parameters (dont look at these yet!)\n",
    "N = 50\n",
    "#x = np.random.randn(N,1)*3 +10\n",
    "x = np.random.rand(N,1)*5\n",
    "x_plot = np.arange(0,5,step=0.1)\n",
    "# Let the following command be the true function\n",
    "#b0 = round(math.exp(1),3) #whats this number? :)\n",
    "#b1 = round(math.pi, 3) #whats this number? :) \n"
   ]
  },
  {
   "cell_type": "code",
   "execution_count": 72,
   "metadata": {
    "collapsed": true
   },
   "outputs": [],
   "source": [
    "#True and unknown to us functional relationship between X and Y:\n",
    "#sigma = 2\n",
    "y = b0 + b1*x #+ sigma * np.random.randn(N,1)\n",
    "# Get some noisy observations\n",
    "y_obs = y + 2*np.random.randn(N,1)"
   ]
  },
  {
   "cell_type": "code",
   "execution_count": 73,
   "metadata": {
    "collapsed": false
   },
   "outputs": [
    {
     "data": {
      "text/plain": [
       "2.718"
      ]
     },
     "execution_count": 73,
     "metadata": {},
     "output_type": "execute_result"
    }
   ],
   "source": [
    "b0"
   ]
  },
  {
   "cell_type": "code",
   "execution_count": 74,
   "metadata": {
    "collapsed": false
   },
   "outputs": [
    {
     "data": {
      "text/plain": [
       "3.142"
      ]
     },
     "execution_count": 74,
     "metadata": {},
     "output_type": "execute_result"
    }
   ],
   "source": [
    "b1"
   ]
  },
  {
   "cell_type": "code",
   "execution_count": 75,
   "metadata": {
    "collapsed": false
   },
   "outputs": [
    {
     "data": {
      "image/png": "[encoded data removed]",
      "text/plain": [
       "<matplotlib.figure.Figure at 0x113456b38>"
      ]
     },
     "metadata": {},
     "output_type": "display_data"
    }
   ],
   "source": [
    "plt.scatter(x,y_obs,label='Observations')\n",
    "plt.plot(x_plot,b0 + b1*x_plot,c='r', label='True Function')\n",
    "\n",
    "plt.legend()\n",
    "plt.show()"
   ]
  },
  {
   "cell_type": "code",
   "execution_count": 76,
   "metadata": {
    "collapsed": true
   },
   "outputs": [],
   "source": [
    "N = 100\n",
    "x = np.random.rand(N,1)*5\n",
    "# Let the following command be the true function\n",
    "y = 2.3 + 5.1*x\n",
    "# Get some noisy observations\n",
    "y_obs = y + 2*np.random.randn(N,1)"
   ]
  },
  {
   "cell_type": "markdown",
   "metadata": {},
   "source": [
    "So what do we do? We have to obtain some deravatives (because we want the gardient of the objective function)"
   ]
  },
  {
   "cell_type": "code",
   "execution_count": 77,
   "metadata": {
    "collapsed": false
   },
   "outputs": [
    {
     "data": {
      "image/png": "[encoded data removed]",
      "text/plain": [
       "<matplotlib.figure.Figure at 0x114a8a278>"
      ]
     },
     "metadata": {},
     "output_type": "display_data"
    }
   ],
   "source": [
    "plt.scatter(x,y_obs,label='Observations')\n",
    "plt.plot(x,y,c='r',label='True function')\n",
    "plt.legend()\n",
    "plt.show()"
   ]
  },
  {
   "cell_type": "markdown",
   "metadata": {},
   "source": [
    "$f$"
   ]
  },
  {
   "cell_type": "code",
   "execution_count": 78,
   "metadata": {
    "collapsed": true
   },
   "outputs": [],
   "source": [
    "def f(beta_0,beta_1):\n",
    "    return beta_0 + beta_1*x"
   ]
  },
  {
   "cell_type": "markdown",
   "metadata": {},
   "source": [
    "loss function"
   ]
  },
  {
   "cell_type": "code",
   "execution_count": 79,
   "metadata": {
    "collapsed": true
   },
   "outputs": [],
   "source": [
    "def loss_function(e):\n",
    "    S = np.sum(np.square(e))/N\n",
    "    return S"
   ]
  },
  {
   "cell_type": "markdown",
   "metadata": {},
   "source": [
    "$\\frac{dS}{d\\beta_0}$"
   ]
  },
  {
   "cell_type": "code",
   "execution_count": 80,
   "metadata": {
    "collapsed": true
   },
   "outputs": [],
   "source": [
    "def dS_db_0(e,b_0,b_1):\n",
    "    return -2*np.sum(e*df_db_1(b_0,b_1))/N"
   ]
  },
  {
   "cell_type": "markdown",
   "metadata": {},
   "source": [
    "$\\frac{dS}{d\\beta_1}$"
   ]
  },
  {
   "cell_type": "code",
   "execution_count": 81,
   "metadata": {
    "collapsed": true
   },
   "outputs": [],
   "source": [
    "def dS_db_1(e,b_0,b_1):\n",
    "    return -2*np.sum(e*df_db_1(b_0,b_1))/N"
   ]
  },
  {
   "cell_type": "markdown",
   "metadata": {},
   "source": [
    "$\\frac{df}{d\\beta_0}$"
   ]
  },
  {
   "cell_type": "code",
   "execution_count": 82,
   "metadata": {
    "collapsed": true
   },
   "outputs": [],
   "source": [
    "def df_db_0(b_0,b_1):\n",
    "    return np.ones(x.shape)"
   ]
  },
  {
   "cell_type": "markdown",
   "metadata": {},
   "source": [
    "$\\frac{df}{d\\beta_1}$"
   ]
  },
  {
   "cell_type": "code",
   "execution_count": 83,
   "metadata": {
    "collapsed": true
   },
   "outputs": [],
   "source": [
    "def df_db_1(b_0,b_1):\n",
    "    return x"
   ]
  },
  {
   "cell_type": "code",
   "execution_count": 100,
   "metadata": {
    "collapsed": false
   },
   "outputs": [],
   "source": [
    "# The Actual Gradient Descent (again borrowed from https://github.com/sachinruk/deepschool.io, and modified for clarity)\n",
    "def gradient_descent(iter=100,gamma=0.1):\n",
    "    # get starting conditions\n",
    "    b1 = .5\n",
    "    b0 = .5\n",
    "    params = []\n",
    "    loss = np.zeros((iter,1))\n",
    "    for i in range(iter):\n",
    "#         from IPython.core.debugger import Tracer; Tracer()()\n",
    "        params.append([b0,b1])\n",
    "        e = y_obs - f(b0,b1) # Really important that you use y_obs and not y (you do not have access to true y)\n",
    "        loss[i] = loss_function(e)\n",
    "\n",
    "        #update parameters\n",
    "        b0_new = b0 - gamma * dS_db_0(e,b0,b1)\n",
    "        b1_new = b1 - gamma * dS_db_1(e,b0,b1)\n",
    "        \n",
    "        b0 = b0_new\n",
    "        b1 = b1_new \n",
    "        \n",
    "        \n",
    "    return params, loss\n",
    "        \n",
    "params, loss = gradient_descent()"
   ]
  },
  {
   "cell_type": "code",
   "execution_count": 101,
   "metadata": {
    "collapsed": false
   },
   "outputs": [
    {
     "data": {
      "text/plain": [
       "[<matplotlib.lines.Line2D at 0x114365588>]"
      ]
     },
     "execution_count": 101,
     "metadata": {},
     "output_type": "execute_result"
    },
    {
     "data": {
      "image/png": "[encoded data removed]",
      "text/plain": [
       "<matplotlib.figure.Figure at 0x1130fd588>"
      ]
     },
     "metadata": {},
     "output_type": "display_data"
    }
   ],
   "source": [
    "plt.plot(loss)"
   ]
  },
  {
   "cell_type": "code",
   "execution_count": 102,
   "metadata": {
    "collapsed": false
   },
   "outputs": [
    {
     "data": {
      "image/png": "[encoded data removed]",
      "text/plain": [
       "<matplotlib.figure.Figure at 0x1130fb630>"
      ]
     },
     "metadata": {},
     "output_type": "display_data"
    }
   ],
   "source": [
    "params = np.array(params)\n",
    "plt.plot(params[:,0],params[:,1])\n",
    "plt.title('Gradient descent')\n",
    "plt.xlabel('b0')\n",
    "plt.ylabel('b1')\n",
    "plt.show()"
   ]
  },
  {
   "cell_type": "code",
   "execution_count": 103,
   "metadata": {
    "collapsed": false
   },
   "outputs": [
    {
     "data": {
      "text/plain": [
       "array([  1.31434214e+10,   1.31434214e+10])"
      ]
     },
     "execution_count": 103,
     "metadata": {},
     "output_type": "execute_result"
    }
   ],
   "source": [
    "params[-1]"
   ]
  },
  {
   "cell_type": "code",
   "execution_count": null,
   "metadata": {
    "collapsed": true
   },
   "outputs": [],
   "source": []
  }
 ],
 "metadata": {
  "kernelspec": {
   "display_name": "Python 3",
   "language": "python",
   "name": "python3"
  },
  "language_info": {
   "codemirror_mode": {
    "name": "ipython",
    "version": 3
   },
   "file_extension": ".py",
   "mimetype": "text/x-python",
   "name": "python",
   "nbconvert_exporter": "python",
   "pygments_lexer": "ipython3",
   "version": "3.6.0"
  }
 },
 "nbformat": 4,
 "nbformat_minor": 2
}
